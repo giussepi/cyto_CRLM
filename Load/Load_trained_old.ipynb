{
 "cells": [
  {
   "cell_type": "code",
   "execution_count": 1,
   "metadata": {},
   "outputs": [
    {
     "data": {
      "text/plain": [
       "PatchCNN(\n",
       "  (base): ResNet(\n",
       "    (conv1): Conv2d(3, 64, kernel_size=(7, 7), stride=(2, 2), padding=(3, 3), bias=False)\n",
       "    (bn1): BatchNorm2d(64, eps=1e-05, momentum=0.1, affine=True, track_running_stats=True)\n",
       "    (relu): ReLU(inplace)\n",
       "    (maxpool): MaxPool2d(kernel_size=3, stride=2, padding=1, dilation=1, ceil_mode=False)\n",
       "    (layer1): Sequential(\n",
       "      (0): BasicBlock(\n",
       "        (conv1): Conv2d(64, 64, kernel_size=(3, 3), stride=(1, 1), padding=(1, 1), bias=False)\n",
       "        (bn1): BatchNorm2d(64, eps=1e-05, momentum=0.1, affine=True, track_running_stats=True)\n",
       "        (relu): ReLU(inplace)\n",
       "        (conv2): Conv2d(64, 64, kernel_size=(3, 3), stride=(1, 1), padding=(1, 1), bias=False)\n",
       "        (bn2): BatchNorm2d(64, eps=1e-05, momentum=0.1, affine=True, track_running_stats=True)\n",
       "      )\n",
       "      (1): BasicBlock(\n",
       "        (conv1): Conv2d(64, 64, kernel_size=(3, 3), stride=(1, 1), padding=(1, 1), bias=False)\n",
       "        (bn1): BatchNorm2d(64, eps=1e-05, momentum=0.1, affine=True, track_running_stats=True)\n",
       "        (relu): ReLU(inplace)\n",
       "        (conv2): Conv2d(64, 64, kernel_size=(3, 3), stride=(1, 1), padding=(1, 1), bias=False)\n",
       "        (bn2): BatchNorm2d(64, eps=1e-05, momentum=0.1, affine=True, track_running_stats=True)\n",
       "      )\n",
       "    )\n",
       "    (layer2): Sequential(\n",
       "      (0): BasicBlock(\n",
       "        (conv1): Conv2d(64, 128, kernel_size=(3, 3), stride=(2, 2), padding=(1, 1), bias=False)\n",
       "        (bn1): BatchNorm2d(128, eps=1e-05, momentum=0.1, affine=True, track_running_stats=True)\n",
       "        (relu): ReLU(inplace)\n",
       "        (conv2): Conv2d(128, 128, kernel_size=(3, 3), stride=(1, 1), padding=(1, 1), bias=False)\n",
       "        (bn2): BatchNorm2d(128, eps=1e-05, momentum=0.1, affine=True, track_running_stats=True)\n",
       "        (downsample): Sequential(\n",
       "          (0): Conv2d(64, 128, kernel_size=(1, 1), stride=(2, 2), bias=False)\n",
       "          (1): BatchNorm2d(128, eps=1e-05, momentum=0.1, affine=True, track_running_stats=True)\n",
       "        )\n",
       "      )\n",
       "      (1): BasicBlock(\n",
       "        (conv1): Conv2d(128, 128, kernel_size=(3, 3), stride=(1, 1), padding=(1, 1), bias=False)\n",
       "        (bn1): BatchNorm2d(128, eps=1e-05, momentum=0.1, affine=True, track_running_stats=True)\n",
       "        (relu): ReLU(inplace)\n",
       "        (conv2): Conv2d(128, 128, kernel_size=(3, 3), stride=(1, 1), padding=(1, 1), bias=False)\n",
       "        (bn2): BatchNorm2d(128, eps=1e-05, momentum=0.1, affine=True, track_running_stats=True)\n",
       "      )\n",
       "    )\n",
       "    (layer3): Sequential(\n",
       "      (0): BasicBlock(\n",
       "        (conv1): Conv2d(128, 256, kernel_size=(3, 3), stride=(2, 2), padding=(1, 1), bias=False)\n",
       "        (bn1): BatchNorm2d(256, eps=1e-05, momentum=0.1, affine=True, track_running_stats=True)\n",
       "        (relu): ReLU(inplace)\n",
       "        (conv2): Conv2d(256, 256, kernel_size=(3, 3), stride=(1, 1), padding=(1, 1), bias=False)\n",
       "        (bn2): BatchNorm2d(256, eps=1e-05, momentum=0.1, affine=True, track_running_stats=True)\n",
       "        (downsample): Sequential(\n",
       "          (0): Conv2d(128, 256, kernel_size=(1, 1), stride=(2, 2), bias=False)\n",
       "          (1): BatchNorm2d(256, eps=1e-05, momentum=0.1, affine=True, track_running_stats=True)\n",
       "        )\n",
       "      )\n",
       "      (1): BasicBlock(\n",
       "        (conv1): Conv2d(256, 256, kernel_size=(3, 3), stride=(1, 1), padding=(1, 1), bias=False)\n",
       "        (bn1): BatchNorm2d(256, eps=1e-05, momentum=0.1, affine=True, track_running_stats=True)\n",
       "        (relu): ReLU(inplace)\n",
       "        (conv2): Conv2d(256, 256, kernel_size=(3, 3), stride=(1, 1), padding=(1, 1), bias=False)\n",
       "        (bn2): BatchNorm2d(256, eps=1e-05, momentum=0.1, affine=True, track_running_stats=True)\n",
       "      )\n",
       "    )\n",
       "    (layer4): Sequential(\n",
       "      (0): BasicBlock(\n",
       "        (conv1): Conv2d(256, 512, kernel_size=(3, 3), stride=(2, 2), padding=(1, 1), bias=False)\n",
       "        (bn1): BatchNorm2d(512, eps=1e-05, momentum=0.1, affine=True, track_running_stats=True)\n",
       "        (relu): ReLU(inplace)\n",
       "        (conv2): Conv2d(512, 512, kernel_size=(3, 3), stride=(1, 1), padding=(1, 1), bias=False)\n",
       "        (bn2): BatchNorm2d(512, eps=1e-05, momentum=0.1, affine=True, track_running_stats=True)\n",
       "        (downsample): Sequential(\n",
       "          (0): Conv2d(256, 512, kernel_size=(1, 1), stride=(2, 2), bias=False)\n",
       "          (1): BatchNorm2d(512, eps=1e-05, momentum=0.1, affine=True, track_running_stats=True)\n",
       "        )\n",
       "      )\n",
       "      (1): BasicBlock(\n",
       "        (conv1): Conv2d(512, 512, kernel_size=(3, 3), stride=(1, 1), padding=(1, 1), bias=False)\n",
       "        (bn1): BatchNorm2d(512, eps=1e-05, momentum=0.1, affine=True, track_running_stats=True)\n",
       "        (relu): ReLU(inplace)\n",
       "        (conv2): Conv2d(512, 512, kernel_size=(3, 3), stride=(1, 1), padding=(1, 1), bias=False)\n",
       "        (bn2): BatchNorm2d(512, eps=1e-05, momentum=0.1, affine=True, track_running_stats=True)\n",
       "      )\n",
       "    )\n",
       "  )\n",
       "  (down): Sequential(\n",
       "    (0): Conv2d(512, 256, kernel_size=(5, 5), stride=(2, 2), padding=(2, 2))\n",
       "    (1): InstanceNorm2d(256, eps=1e-05, momentum=0.1, affine=False, track_running_stats=False)\n",
       "    (2): LeakyReLU(negative_slope=0.2, inplace)\n",
       "    (3): Conv2d(256, 64, kernel_size=(5, 5), stride=(2, 2), padding=(2, 2))\n",
       "    (4): InstanceNorm2d(64, eps=1e-05, momentum=0.1, affine=False, track_running_stats=False)\n",
       "    (5): LeakyReLU(negative_slope=0.2, inplace)\n",
       "  )\n",
       "  (patch_classifier): Conv2d(64, 11, kernel_size=(3, 3), stride=(1, 1), padding=(1, 1))\n",
       ")"
      ]
     },
     "execution_count": 1,
     "metadata": {},
     "output_type": "execute_result"
    }
   ],
   "source": [
    "import torch\n",
    "import sys\n",
    "import pylab as plt\n",
    "\n",
    "sys.path.append('/home/john/Dropbox/code/Notebook/Pytorch_Patch_Based/')\n",
    "from Model.PatchCNN import PatchCNN\n",
    "\n",
    "model = PatchCNN()\n",
    "state_dict = torch.load('/mnt/DATA_CRLM/Patches/Checkpoints/PatchCNN/PatchCNN_224/PatchCNN_best.pth')\n",
    "new_state_dict = {}\n",
    "for key in model.state_dict():\n",
    "    new_state_dict[key] = state_dict['module.'+key].double()\n",
    "model.load_state_dict(new_state_dict)\n",
    "model.eval()\n",
    "model.cuda()"
   ]
  },
  {
   "cell_type": "code",
   "execution_count": 3,
   "metadata": {},
   "outputs": [
    {
     "name": "stdout",
     "output_type": "stream",
     "text": [
      "(536, 552)\n"
     ]
    },
    {
     "data": {
      "image/png": "[encoded data removed]",
      "text/plain": [
       "<matplotlib.figure.Figure at 0x7ff2f5a641d0>"
      ]
     },
     "metadata": {},
     "output_type": "display_data"
    }
   ],
   "source": [
    "device = torch.device(\"cuda:0\")\n",
    "model.to(device)\n",
    "index='m80'\n",
    "import numpy as np\n",
    "test_img = plt.imread('/mnt/DATA_CRLM/SShot/im_'+index+'.png')\n",
    "\n",
    "step = 14\n",
    "patch_size = 224\n",
    "\n",
    "nx = len(range(0,test_img.shape[0]-patch_size,step))\n",
    "ny = len(range(0,test_img.shape[1]-patch_size,step))\n",
    "\n",
    "final_result = torch.zeros((nx*2,ny*2))\n",
    "\n",
    "\n",
    "for x in range(0,test_img.shape[0]-patch_size,step):\n",
    "    for y in range(0,test_img.shape[1]-patch_size,step):\n",
    "        \n",
    "        test_tensor = torch.from_numpy(((test_img[x:x+patch_size,y:y+patch_size,(2,1,0)]-\\\n",
    "                                        np.array([0.485, 0.456, 0.406]))/ np.array([0.229, 0.224, 0.225])).transpose(2,0,1)).float()\n",
    "\n",
    "        test_tensor = test_tensor.unsqueeze(0)\n",
    "        \n",
    "        out = model(test_tensor.cuda())\n",
    "        softmax = torch.nn.Softmax2d()\n",
    "        out2 = softmax(out)\n",
    "\n",
    "        a,r = torch.max(out2[:,(0,2,3,4),:,:],1)\n",
    "        #print out2.shape\n",
    "        #print(a.size(),r.size())\n",
    "        #rr = copy.copy(r.detach().cpu().numpy())\n",
    "\n",
    "        final_result[(x/step)*2:(x/step)*2+2,(y/step)*2:(y/step)*2+2] = r[0]\n",
    "\n",
    "fr = final_result.detach().cpu().numpy()\n",
    "print(fr.shape)\n",
    "plt.imshow(fr)\n",
    "plt.show()\n",
    "np.save('/mnt/DATA_CRLM/SShot/im_'+index+'_pcnn_label.npy',fr)"
   ]
  },
  {
   "cell_type": "code",
   "execution_count": 5,
   "metadata": {},
   "outputs": [
    {
     "name": "stdout",
     "output_type": "stream",
     "text": [
      "torch.Size([3, 3964, 138, 224])\n",
      "torch.Size([3, 134, 138, 224, 224])\n",
      "torch.Size([134, 138, 3, 224, 224])\n",
      "torch.Size([18492, 3, 224, 224])\n"
     ]
    },
    {
     "data": {
      "image/png": "[encoded data removed]",
      "text/plain": [
       "<matplotlib.figure.Figure at 0x7ff28dfe6710>"
      ]
     },
     "metadata": {},
     "output_type": "display_data"
    }
   ],
   "source": [
    "index='m82'\n",
    "import numpy as np\n",
    "test_img = plt.imread('/mnt/DATA_CRLM/SShot/im_'+index+'.png')\n",
    "if test_img.max()>2:\n",
    "    test_img = test_img/255.0\n",
    "    \n",
    "step = 28\n",
    "patch_size = 224\n",
    "tt = torch.from_numpy(((test_img[:,:,(2,1,0)]-np.array([0.485, 0.456, 0.406]))/ np.array([0.229, 0.224, 0.225])).transpose(2,0,1)).float()\n",
    "ta =tt.unfold(2,patch_size,step)\n",
    "print(ta.size())\n",
    "tb = ta.unfold(1,patch_size,step)\n",
    "print(tb.size())\n",
    "tc = tb.permute((1,2,0,3,4))\n",
    "print(tc.shape)\n",
    "td = tc.reshape(-1,3,patch_size,patch_size)\n",
    "print(td.shape)\n",
    "nx = len(range(0,test_img.shape[0]-patch_size,step))\n",
    "ny = len(range(0,test_img.shape[1]-patch_size,step))\n",
    "\n",
    "final_tensor = td\n",
    "final_result2 = []\n",
    "\n",
    "\n",
    "for i in range(nx):\n",
    "    test_tensor = final_tensor[i*ny:i*ny+ny]\n",
    "    out = model(test_tensor.cuda())\n",
    "    softmax = torch.nn.Softmax2d()\n",
    "    out2 = softmax(out)\n",
    "    final_result2.append(out2.detach().cpu().numpy())\n",
    "    \n",
    "t = np.array(final_result2).transpose(0,3,1,4,2).reshape(nx*2,ny*2,11)\n",
    "\n",
    "plt.imshow(np.argmax(t[:,:,(0,2,3,4)],2))\n",
    "plt.show()\n",
    "np.save('/mnt/DATA_CRLM/SShot/im_'+index+'_pcnn_label.npy',t)"
   ]
  }
 ],
 "metadata": {
  "kernelspec": {
   "display_name": "Python 2",
   "language": "python",
   "name": "python2"
  },
  "language_info": {
   "codemirror_mode": {
    "name": "ipython",
    "version": 2
   },
   "file_extension": ".py",
   "mimetype": "text/x-python",
   "name": "python",
   "nbconvert_exporter": "python",
   "pygments_lexer": "ipython2",
   "version": "2.7.15"
  }
 },
 "nbformat": 4,
 "nbformat_minor": 2
}
